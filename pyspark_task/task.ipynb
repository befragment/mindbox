{
 "cells": [
  {
   "cell_type": "code",
   "execution_count": 2,
   "metadata": {},
   "outputs": [
    {
     "name": "stdout",
     "output_type": "stream",
     "text": [
      "Requirement already satisfied: pyspark in /Users/a1/Desktop/dev/test_vacancy/.venv/lib/python3.10/site-packages (3.5.1)\n",
      "Requirement already satisfied: py4j==0.10.9.7 in /Users/a1/Desktop/dev/test_vacancy/.venv/lib/python3.10/site-packages (from pyspark) (0.10.9.7)\n",
      "\u001b[33mWARNING: You are using pip version 22.0.4; however, version 24.1.2 is available.\n",
      "You should consider upgrading via the '/Users/a1/Desktop/dev/test_vacancy/.venv/bin/python3 -m pip install --upgrade pip' command.\u001b[0m\u001b[33m\n",
      "\u001b[0m"
     ]
    }
   ],
   "source": [
    "!pip install pyspark"
   ]
  },
  {
   "cell_type": "code",
   "execution_count": 4,
   "metadata": {},
   "outputs": [],
   "source": [
    "from pyspark.sql import SparkSession, DataFrame"
   ]
  },
  {
   "cell_type": "code",
   "execution_count": 8,
   "metadata": {},
   "outputs": [],
   "source": [
    "spark = SparkSession.builder.appName(\"ProductsCategories\").getOrCreate()\n",
    "\n",
    "products = spark.createDataFrame([\n",
    "    (1, \"Product A\"),\n",
    "    (2, \"Product B\"),\n",
    "    (3, \"Product C\"),\n",
    "    (4, \"Product D\")\n",
    "], [\"product_id\", \"product_name\"])\n",
    "\n",
    "categories = spark.createDataFrame([\n",
    "    (1, \"Category 1\"),\n",
    "    (2, \"Category 2\"),\n",
    "    (3, \"Category 3\")\n",
    "], [\"category_id\", \"category_name\"])\n",
    "\n",
    "product_categories = spark.createDataFrame([\n",
    "    (1, 1),\n",
    "    (1, 2),\n",
    "    (2, 1),\n",
    "    (3, 3)\n",
    "], [\"product_id\", \"category_id\"])"
   ]
  },
  {
   "cell_type": "markdown",
   "metadata": {},
   "source": [
    "### Основной метод"
   ]
  },
  {
   "cell_type": "code",
   "execution_count": 9,
   "metadata": {},
   "outputs": [],
   "source": [
    "def product_category(\n",
    "        products: DataFrame,\n",
    "        categories: DataFrame,\n",
    "        relations: DataFrame\n",
    "):\n",
    "    product_category_pairs = relations.join(products, \"product_id\").join(categories, \"category_id\")\n",
    "    \n",
    "    product_category_pairs = product_category_pairs.select(\"product_name\", \"category_name\")\n",
    "    \n",
    "    products_with_categories = relations.select(\"product_id\").distinct()\n",
    "    products_without_categories = products.join(products_with_categories, \"product_id\", \"leftanti\")\n",
    "    \n",
    "    return product_category_pairs, products_without_categories.select(\"product_name\")\n",
    "    "
   ]
  },
  {
   "cell_type": "markdown",
   "metadata": {},
   "source": [
    "### Тестовые данные"
   ]
  },
  {
   "cell_type": "code",
   "execution_count": 11,
   "metadata": {},
   "outputs": [],
   "source": [
    "# Примеры датафреймов\n",
    "products = spark.createDataFrame([\n",
    "    (1, \"Product A\"),\n",
    "    (2, \"Product B\"),\n",
    "    (3, \"Product C\"),\n",
    "    (4, \"Product D\")\n",
    "], [\"product_id\", \"product_name\"])\n",
    "\n",
    "categories = spark.createDataFrame([\n",
    "    (1, \"Category 1\"),\n",
    "    (2, \"Category 2\"),\n",
    "    (3, \"Category 3\")\n",
    "], [\"category_id\", \"category_name\"])\n",
    "\n",
    "product_categories = spark.createDataFrame([\n",
    "    (1, 1),\n",
    "    (1, 2),\n",
    "    (2, 1),\n",
    "    (3, 3)\n",
    "], [\"product_id\", \"category_id\"])\n"
   ]
  },
  {
   "cell_type": "code",
   "execution_count": 12,
   "metadata": {},
   "outputs": [
    {
     "name": "stdout",
     "output_type": "stream",
     "text": [
      "Product-Category Pairs:\n"
     ]
    },
    {
     "name": "stderr",
     "output_type": "stream",
     "text": [
      "                                                                                \r"
     ]
    },
    {
     "name": "stdout",
     "output_type": "stream",
     "text": [
      "+------------+-------------+\n",
      "|product_name|category_name|\n",
      "+------------+-------------+\n",
      "|   Product B|   Category 1|\n",
      "|   Product A|   Category 1|\n",
      "|   Product A|   Category 2|\n",
      "|   Product C|   Category 3|\n",
      "+------------+-------------+\n",
      "\n",
      "Products without Categories:\n",
      "+------------+\n",
      "|product_name|\n",
      "+------------+\n",
      "|   Product D|\n",
      "+------------+\n",
      "\n"
     ]
    }
   ],
   "source": [
    "product_category_pairs, products_without_categories = product_category(products, categories, product_categories)\n",
    "print(\"Product-Category Pairs:\")\n",
    "product_category_pairs.show()\n",
    "\n",
    "print(\"Products without Categories:\")\n",
    "products_without_categories.show()"
   ]
  }
 ],
 "metadata": {
  "kernelspec": {
   "display_name": ".venv",
   "language": "python",
   "name": "python3"
  },
  "language_info": {
   "codemirror_mode": {
    "name": "ipython",
    "version": 3
   },
   "file_extension": ".py",
   "mimetype": "text/x-python",
   "name": "python",
   "nbconvert_exporter": "python",
   "pygments_lexer": "ipython3",
   "version": "3.10.4"
  }
 },
 "nbformat": 4,
 "nbformat_minor": 2
}
